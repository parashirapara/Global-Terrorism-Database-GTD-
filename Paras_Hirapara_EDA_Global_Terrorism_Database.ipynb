{
  "nbformat": 4,
  "nbformat_minor": 0,
  "metadata": {
    "colab": {
      "private_outputs": true,
      "provenance": [],
      "collapsed_sections": [
        "mDgbUHAGgjLW",
        "MSa1f5Uengrz"
      ]
    },
    "kernelspec": {
      "name": "python3",
      "display_name": "Python 3"
    },
    "language_info": {
      "name": "python"
    }
  },
  "cells": [
    {
      "cell_type": "markdown",
      "source": [
        "# **Project Name**    - EDA - Global Terrorism Database (GTD) \n",
        "\n"
      ],
      "metadata": {
        "id": "vncDsAP0Gaoa"
      }
    },
    {
      "cell_type": "markdown",
      "source": [
        "### My Self **Paras Hirapara**\n",
        "\n",
        "\n",
        "\n",
        "\n"
      ],
      "metadata": {
        "id": "beRrZCGUAJYm"
      }
    },
    {
      "cell_type": "markdown",
      "source": [
        "# **Project Summary -**"
      ],
      "metadata": {
        "id": "FJNUwmbgGyua"
      }
    },
    {
      "cell_type": "markdown",
      "source": [
        "The Global Terrorism Database (GTD) is a database of terrorist incidents starting in 1970. The list continued through 2017, noting more than 200,000 events. The National Consortium for the Study of Terrorism and Responses to Terrorism (START) at the University of Maryland, College Park in the United States is responsible for maintaining the database. It serves as the foundation for further terrorism-related metrics, including the Institute for Economics and Peace's Global Terrorism Index (GTI). \n",
        "\n",
        "In its 2021 version, the GTD lists nearly 200,000 terrorist attacks and bills itself as the \"largest comprehensive declassified data base on terrorist occurrences in the world.\" There are almost 95,000 bombings in the GTD. Additionally, it covers more than 15,000 kidnappings and more than 20,000 murders. The GTD produced several broad conclusions on the types and locations of terrorist strikes. For instance, just roughly one percent of terrorist attacks in the GTD result in 25 or more fatalities, but these very lethal attacks killed more than 140,000 people overall between 1970 and 2017. About half of all terrorist attacks in the GTD are non-lethal. More than 2,000 specifically identified perpetrator organisations and more than 700 other generic groupings, including \"Tamil separatists,\" are blamed for the attacks in the GTD. However, less than a year and less than four attacks are carried out by two-thirds of these groups. Similarly, from 1970 to 2017, only 20 perpetrator groups are accountable for 50% of all incidents for which a perpetrator could be located. \n",
        "\n",
        "The Institute for Economics and Peace (IEP) in Australia publishes the Global Terrorism Index (GTI) every year with the goal of thoroughly examining the effects of terrorism on 163 nations, representing 99.7% of the world's population. The GTI takes into consideration terrorist events during the previous five years and defines terrorism as \"the threatened or actual use of illegal force and violence by a non-state actor to gain a political, economic, religious, or social goal through fear, coercion, or intimidation.\" \n",
        "\n",
        "The 2019 GTI Report draws some shocking findings, with India's ranking dropping from 8th in 2017 and 2018 to 7th in 2019, which may not necessarily reflect a worsening of the nation's overall security condition due to terrorism. India has historically lagged behind countries with a history of armed conflict, such the Democratic Republic of the Congo, South Sudan, Sudan, Burkina Faso, Palestine, and Lebanon. \n",
        "\n",
        "The report also draws other striking conclusions, such as the fact that all 10 of the nations with the greatest impact of terrorism, including India, are now involved in at least one armed conflict. In order to give decision-makers a fuller, more comprehensive picture, data analysis connected to GTA may also offer a short- and long-term prognosis of terrorist attacks globally and regionally, coupled with additional analysis of prior trends."
      ],
      "metadata": {
        "id": "F6v_1wHtG2nS"
      }
    },
    {
      "cell_type": "markdown",
      "source": [
        "# **GitHub Link -**"
      ],
      "metadata": {
        "id": "w6K7xa23Elo4"
      }
    },
    {
      "cell_type": "markdown",
      "source": [
        "https://github.com/parashirapara/Paras_Global_Terrorism_Database_-GTD-.git"
      ],
      "metadata": {
        "id": "h1o69JH3Eqqn"
      }
    },
    {
      "cell_type": "markdown",
      "source": [
        "# **Problem Statement**\n"
      ],
      "metadata": {
        "id": "yQaldy8SH6Dl"
      }
    },
    {
      "cell_type": "markdown",
      "source": [
        "The probability of occurrences happening at the same geolocation is a little bit low in the START terrorism dataset. The majority of the occurrences are inconsistent or infrequent. Consequently, it becomes challenging to make quantitative projections with different degrees of similar events. Thus, various categorization methods yield various outcomes.\n",
        "\n",
        "The fact that various studies reach different conclusions presents another significant challenge when working with this dataset. Current flaws and restrictions in data gathering methods, disagreements over definitions, irregularities in coding and analysis lead to disagreements among researchers, which in turn invalidates their conclusions.\n",
        "\n",
        "One of the problems is that the definitional disputes surrounding different terrorist incidents have a negative impact on the development of this field. This problem necessitates the exercise of a need for consensus among experts and relevant authorities to agree on what might be the standard norms and procedure to be regarded as a legitimate piece of information on terrorism on which suitable research can be done.\n",
        "\n",
        "Thus, the research and analysis conducted for this project were highly influenced by the data from the Global Terrorism Dataset, and our findings may not be comparable to those of other studies due to the variety of sources we used."
      ],
      "metadata": {
        "id": "DpeJGUA3kjGy"
      }
    },
    {
      "cell_type": "markdown",
      "source": [
        "#### **Define Your Business Objective?**"
      ],
      "metadata": {
        "id": "PH-0ReGfmX4f"
      }
    },
    {
      "cell_type": "markdown",
      "source": [
        "This project's implementation includes system design, backend design, graphic design, and user interface design.\n",
        "\n",
        "(1). Perform ‘Exploratory Data Analysis’ on dataset ‘Global Terrorism’\n",
        "\n",
        "(2). As a security/defense analyst, try to find out the hot zone of terrorism.\n",
        "\n",
        "(3). What all security issues and insights you can derive by EDA?"
      ],
      "metadata": {
        "id": "PhDvGCAqmjP1"
      }
    },
    {
      "cell_type": "markdown",
      "source": [
        "# **General Guidelines** : -  "
      ],
      "metadata": {
        "id": "mDgbUHAGgjLW"
      }
    },
    {
      "cell_type": "markdown",
      "source": [
        "1.   Well-structured, formatted, and commented code is required. \n",
        "2.   Exception Handling, Production Grade Code & Deployment Ready Code will be a plus. Those students will be awarded some additional credits. \n",
        "     \n",
        "     The additional credits will have advantages over other students during Star Student selection.\n",
        "       \n",
        "             [ Note: - Deployment Ready Code is defined as, the whole .ipynb notebook should be executable in one go\n",
        "                       without a single error logged. ]\n",
        "\n",
        "3.   Each and every logic should have proper comments.\n",
        "4. You may add as many number of charts you want. Make Sure for each and every chart the following format should be answered.\n",
        "        \n",
        "\n",
        "```\n",
        "# Chart visualization code\n",
        "```\n",
        "            \n",
        "\n",
        "*   Why did you pick the specific chart?\n",
        "*   What is/are the insight(s) found from the chart?\n",
        "* Will the gained insights help creating a positive business impact? \n",
        "Are there any insights that lead to negative growth? Justify with specific reason.\n",
        "\n",
        "5. You have to create at least 20 logical & meaningful charts having important insights.\n",
        "\n",
        "\n",
        "[ Hints : - Do the Vizualization in  a structured way while following \"UBM\" Rule. \n",
        "\n",
        "U - Univariate Analysis,\n",
        "\n",
        "B - Bivariate Analysis (Numerical - Categorical, Numerical - Numerical, Categorical - Categorical)\n",
        "\n",
        "M - Multivariate Analysis\n",
        " ]\n",
        "\n",
        "\n",
        "\n"
      ],
      "metadata": {
        "id": "ZrxVaUj-hHfC"
      }
    },
    {
      "cell_type": "markdown",
      "source": [
        "# ***Let's Begin !***"
      ],
      "metadata": {
        "id": "O_i_v8NEhb9l"
      }
    },
    {
      "cell_type": "markdown",
      "source": [
        "## ***1. Know Your Data***"
      ],
      "metadata": {
        "id": "HhfV-JJviCcP"
      }
    },
    {
      "cell_type": "markdown",
      "source": [
        "### Import Libraries"
      ],
      "metadata": {
        "id": "Y3lxredqlCYt"
      }
    },
    {
      "cell_type": "code",
      "source": [
        "# Import Libraries\n",
        "\n",
        "import pandas as pd\n",
        "import numpy as np\n",
        "import missingno as msno\n",
        "import plotly.express as px\n",
        "import seaborn as sns\n",
        "import matplotlib.pyplot as plt"
      ],
      "metadata": {
        "id": "M8Vqi-pPk-HR"
      },
      "execution_count": null,
      "outputs": []
    },
    {
      "cell_type": "markdown",
      "source": [
        "### Dataset Loading"
      ],
      "metadata": {
        "id": "3RnN4peoiCZX"
      }
    },
    {
      "cell_type": "code",
      "source": [
        "# Load Dataset\n",
        "\n",
        "from google.colab import drive\n",
        "drive.mount('/content/drive')"
      ],
      "metadata": {
        "id": "qFk61T3xTgp-"
      },
      "execution_count": null,
      "outputs": []
    },
    {
      "cell_type": "code",
      "source": [
        "# Load File Path for Read\n",
        "\n",
        "file_path = '/content/drive/MyDrive/Data Science/Capston Project 1/Global Terrorism Data.csv'\n",
        "Data = pd.read_csv(file_path, encoding='ISO-8859-1')"
      ],
      "metadata": {
        "id": "z-I_k4dVTrgE"
      },
      "execution_count": null,
      "outputs": []
    },
    {
      "cell_type": "markdown",
      "source": [
        "### Dataset First View"
      ],
      "metadata": {
        "id": "x71ZqKXriCWQ"
      }
    },
    {
      "cell_type": "code",
      "source": [
        "# Dataset First Look\n",
        "\n",
        "Data.head()"
      ],
      "metadata": {
        "id": "LWNFOSvLl09H"
      },
      "execution_count": null,
      "outputs": []
    },
    {
      "cell_type": "markdown",
      "source": [
        "### Dataset Rows & Columns count"
      ],
      "metadata": {
        "id": "7hBIi_osiCS2"
      }
    },
    {
      "cell_type": "code",
      "source": [
        "# Dataset Rows & Columns count\n",
        "\n",
        "num_rows = Data.shape[0]\n",
        "num_columns = Data.shape[1]\n",
        "\n",
        "print(f' Rows is %d and colunms is %d.' % (num_rows, num_columns))"
      ],
      "metadata": {
        "id": "Kllu7SJgmLij"
      },
      "execution_count": null,
      "outputs": []
    },
    {
      "cell_type": "markdown",
      "source": [
        "### Dataset Information"
      ],
      "metadata": {
        "id": "JlHwYmJAmNHm"
      }
    },
    {
      "cell_type": "code",
      "source": [
        "# Dataset Information\n",
        "\n",
        "# Dataset Information for year\n",
        "Data['iyear'].info()\n",
        "\n",
        "# Dataset Information for approxdate\n",
        "Data['approxdate'].info()\n",
        "\n",
        "# Dataset Information for country_txt\n",
        "Data['country_txt'].info()\n",
        "\n",
        "# Dataset Information for latitude\n",
        "Data['latitude'].info()\n",
        "\n",
        "# All Dataset Information\n",
        "Data.info()"
      ],
      "metadata": {
        "id": "e9hRXRi6meOf"
      },
      "execution_count": null,
      "outputs": []
    },
    {
      "cell_type": "markdown",
      "source": [
        "#### Duplicate Values"
      ],
      "metadata": {
        "id": "35m5QtbWiB9F"
      }
    },
    {
      "cell_type": "code",
      "source": [
        "# Dataset Duplicate Value Count\n",
        "\n",
        "duplicates = Data.duplicated().sum()\n",
        "\n",
        "# Print the result\n",
        "\n",
        "print(\"Number of duplicate values:\", duplicates)"
      ],
      "metadata": {
        "id": "1sLdpKYkmox0"
      },
      "execution_count": null,
      "outputs": []
    },
    {
      "cell_type": "markdown",
      "source": [
        "#### Missing Values/Null Values"
      ],
      "metadata": {
        "id": "PoPl-ycgm1ru"
      }
    },
    {
      "cell_type": "code",
      "source": [
        "# Missing Values/Null Values Count\n",
        "\n",
        "missing_values_count = Data.isnull().sum()\n",
        "\n",
        "print(missing_values_count)"
      ],
      "metadata": {
        "id": "GgHWkxvamxVg"
      },
      "execution_count": null,
      "outputs": []
    },
    {
      "cell_type": "code",
      "source": [
        "# Visualizing the missing values\n",
        "\n",
        "msno.bar(Data)\n",
        "\n",
        "# Bottom of the plot value is the scale is measured in index values.\n",
        "# Top of the plot value is ranges from 0.0 to 1.0, where 1.0 represents 100% data completeness.\n",
        "# Right of the plot calue is represent the total count within that column."
      ],
      "metadata": {
        "id": "3q5wnI3om9sJ"
      },
      "execution_count": null,
      "outputs": []
    },
    {
      "cell_type": "markdown",
      "source": [
        "### What did you know about your dataset?"
      ],
      "metadata": {
        "id": "H0kj-8xxnORC"
      }
    },
    {
      "cell_type": "markdown",
      "source": [
        "Given dataset about terresisom accors the world. It has 181691 rows and 135 columns. In dataset float values, integers, and object values are 55, 22 and 58 respectively. There is no any duplicate values in dataset but there is many null values. So, here we used missingno library to generate graph for batter undersatnding of null values."
      ],
      "metadata": {
        "id": "gfoNAAC-nUe_"
      }
    },
    {
      "cell_type": "markdown",
      "source": [
        "## ***2. Understanding Your Variables***"
      ],
      "metadata": {
        "id": "nA9Y7ga8ng1Z"
      }
    },
    {
      "cell_type": "code",
      "source": [
        "# Dataset Columns\n",
        "\n",
        "x = list(Data.columns)\n",
        "\n",
        "print(x)"
      ],
      "metadata": {
        "id": "j7xfkqrt5Ag5"
      },
      "execution_count": null,
      "outputs": []
    },
    {
      "cell_type": "code",
      "source": [
        "# iyear Dataset Describe\n",
        "\n",
        "Data['iyear'].describe()"
      ],
      "metadata": {
        "id": "DnOaZdaE5Q5t"
      },
      "execution_count": null,
      "outputs": []
    },
    {
      "cell_type": "code",
      "source": [
        "# extended Dataset Describe\n",
        "\n",
        "Data['extended'].describe()"
      ],
      "metadata": {
        "id": "dUnDww2jaeju"
      },
      "execution_count": null,
      "outputs": []
    },
    {
      "cell_type": "code",
      "source": [
        "# region Dataset Describe\n",
        "\n",
        "Data['region'].describe()"
      ],
      "metadata": {
        "id": "Tu72GDIhaf80"
      },
      "execution_count": null,
      "outputs": []
    },
    {
      "cell_type": "code",
      "source": [
        "# All Dataset Description\n",
        "\n",
        "Data.describe()"
      ],
      "metadata": {
        "id": "f8SuEv0masGt"
      },
      "execution_count": null,
      "outputs": []
    },
    {
      "cell_type": "markdown",
      "source": [
        "### Variables Description "
      ],
      "metadata": {
        "id": "PBTbrJXOngz2"
      }
    },
    {
      "cell_type": "markdown",
      "source": [
        "**attacktype1_txt** = The type of attack happened. Attacktype1_txt consists of categories like explosion, armed assault, assassination, kidnapping, unarmed assaults.\n",
        "\n",
        "**target1_txt** = Type of target involved in the attack. Target1_txt consists of\n",
        "categorical values like private citizens, military, police, government officials, transportation, education, religious institution, airports, etc.\n",
        "\n",
        "**success** = ‘1’ if attack was a success. ‘0’ if attack was a failure.\n",
        "\n",
        "**multiple** = Value for the number of attacks conducted in a single terrorist event.\n",
        "\n",
        "**natlty1** = Nationality of the attacker.\n",
        "\n",
        "**weaptype1 Type** = of weapon used in the attack. Weaptype1 contains values like firearms, explosives, melee, vehicles etc. \n",
        "\n",
        "**nkill** = Number of people killed in any event.\n",
        "\n",
        "**nwonded** = Number of people wounded in any event\n",
        "\n",
        "**region_txt** = Name of the region where the attack happened. Region_txt consists values like East Asia, South Asia, Western Europe, etc.\n",
        "\n",
        "**longitude** = Longitude of the location.\n",
        "\n",
        "**latitude** = Latitude of the location.\n",
        "\n",
        "**property** = Total property damage happened in any event.\n",
        "\n",
        "**suicide** = ‘1’ if attack was a suicide attempt. ‘0’ if attack was not a suicide attempt.\n",
        "\n",
        "**motive** = Known motive of the attacker.\n",
        "\n",
        "**age** = Estimated age of the attacker.\n",
        "\n",
        "**iday, imonth, iyear** = Calendar details of the event.\n"
      ],
      "metadata": {
        "id": "aJV4KIxSnxay"
      }
    },
    {
      "cell_type": "markdown",
      "source": [
        "### Check Unique Values for each variable."
      ],
      "metadata": {
        "id": "u3PMJOP6ngxN"
      }
    },
    {
      "cell_type": "code",
      "source": [
        "# Check Unique Values for each variable.\n",
        "\n",
        "# Apply the unique() method to all columns\n",
        "unique_values = Data.apply(lambda x: x.unique())\n",
        "\n",
        "# Print the unique values\n",
        "print(unique_values)"
      ],
      "metadata": {
        "id": "zms12Yq5n-jE"
      },
      "execution_count": null,
      "outputs": []
    },
    {
      "cell_type": "markdown",
      "source": [
        "## 3. ***Data Wrangling***"
      ],
      "metadata": {
        "id": "dauF4eBmngu3"
      }
    },
    {
      "cell_type": "markdown",
      "source": [
        "### Data Wrangling Code"
      ],
      "metadata": {
        "id": "bKJF3rekwFvQ"
      }
    },
    {
      "cell_type": "code",
      "source": [
        "# Write your code to make your dataset analysis ready.\n",
        "\n",
        "# Renaming Columns\n",
        "\n",
        "rename_data = Data.rename(columns={\"nkill\":\"Killed\",\"nwound\":\"Wounded\",\"attacktype1\":\"Attacktype\",\"eventid\":\"Eventid\",\"iyear\":\"Year\",\"imonth\":\"Month\",\"iday\":\"Day\",\"country_txt\":\"Country\",\"region_txt\":\"Region\",\"city\":\"City\",\"attacktype1_txt\":\"Attack_Type\",\"targtype1_txt\":\"Target_Type\",\"target1\":\"Target\",\"extended\":\"Extended\",\"natlty1_txt\":\"Nationality\",\"gname\":\"Group_Name\",\"ishostkid\":\"Kidnapped\",\"dbsource\":\"Source\",\"weaptype1_txt\":\"Weapon_Type\",\"guncertain1\":\"Gang_Sus\",'motive':'Motive','latitude':'Latitude','longitude':'Longitude','nhostkid':'Hostages','nperps':'Number of Perpetrators'})\n",
        "\n",
        "rename_data.head()\n"
      ],
      "metadata": {
        "id": "wk-9a2fpoLcV"
      },
      "execution_count": null,
      "outputs": []
    },
    {
      "cell_type": "code",
      "source": [
        "# Values are \" 0, 1, -9\" which represents \"No, Yes, and Unknown\" Respectivly so we will change them\n",
        "\n",
        "change_values = [\"crit1\",\"crit2\",\"crit3\",\"doubtterr\",\"multiple\",\"suicide\",\"property\",\"Kidnapped\",\"INT_LOG\",\"INT_IDEO\",\"INT_MISC\"]\n",
        "for col in change_values:\n",
        "    rename_data[col].replace(to_replace=[0,1,-9],value=[\"No\",\"Yes\",\"Unknown\"],inplace=True)\n",
        "\n",
        "rename_data.head()"
      ],
      "metadata": {
        "id": "tX3JMbsYVRBv"
      },
      "execution_count": null,
      "outputs": []
    },
    {
      "cell_type": "code",
      "source": [
        "# here to select only useful colums for our analysis purpose other colunms are elemenated\n",
        "\n",
        "rename_data = rename_data[['Wounded','Killed','Attacktype','Eventid','Year','Month','Day','Country','Region','City','Attack_Type','Target_Type','Target','Extended','Nationality','Group_Name','Kidnapped','Source','Weapon_Type','Motive','Hostages']]\n",
        "rename_data.head()\n"
      ],
      "metadata": {
        "id": "micbpyqMVUCP"
      },
      "execution_count": null,
      "outputs": []
    },
    {
      "cell_type": "markdown",
      "source": [
        "### What all manipulations have you done and insights you found?"
      ],
      "metadata": {
        "id": "MSa1f5Uengrz"
      }
    },
    {
      "cell_type": "markdown",
      "source": [
        "Here, \n",
        "\n",
        "Firstly rename columns name which we requires.\n",
        "\n",
        "Seconde replace 0, & 1 values with the no & yes for better understanding into the selected rows.\n",
        "\n",
        "Third elemenat unnecessary columns and print only used columns from dataset."
      ],
      "metadata": {
        "id": "LbyXE7I1olp8"
      }
    },
    {
      "cell_type": "markdown",
      "source": [
        "## ***4. Data Vizualization, Storytelling & Experimenting with charts : Understand the relationships between variables***"
      ],
      "metadata": {
        "id": "GF8Ens_Soomf"
      }
    },
    {
      "cell_type": "markdown",
      "source": [
        "#### Chart - 1"
      ],
      "metadata": {
        "id": "0wOQAZs5pc--"
      }
    },
    {
      "cell_type": "code",
      "source": [
        "# Chart - 1 Terrorism Transition in Regions\n",
        "\n",
        "pd.crosstab (rename_data.Year, rename_data.Region).plot(kind='area', figsize=(15,5))\n",
        "plt.title('Terrorism Transition in Regions')\n",
        "plt.ylabel('Number of Attacks')\n",
        "plt.xlabel('Year')\n",
        "plt.show()"
      ],
      "metadata": {
        "id": "7v_ESjsspbW7"
      },
      "execution_count": null,
      "outputs": []
    },
    {
      "cell_type": "markdown",
      "source": [
        "##### 1. Why did you pick the specific chart?"
      ],
      "metadata": {
        "id": "K5QZ13OEpz2H"
      }
    },
    {
      "cell_type": "markdown",
      "source": [
        "Here i choose area formate graph because it clearly represent relationship between numerical values and non numerical values. In this graph i try to present relation between region and terror attacks."
      ],
      "metadata": {
        "id": "XESiWehPqBRc"
      }
    },
    {
      "cell_type": "markdown",
      "source": [
        "##### 2. What is/are the insight(s) found from the chart?"
      ],
      "metadata": {
        "id": "lQ7QKXXCp7Bj"
      }
    },
    {
      "cell_type": "markdown",
      "source": [
        "Figure gives more information about how terrorism has changed over time in different areas. \n",
        "\n",
        "By examining this pattern, we can see that the graph has clearly risen and fallen in all areas.\n",
        "\n",
        "We can see that South America has made little to no contribution to the present terrorism trend. Terrorism had an effect on South America from the early 1980s to the mid-1990s. Since that time, there has not been a lot of crime. Therefore, despite the fact that South America has a higher overall attack rate than other regions, this region does not significantly contribute to the present global terrorism scenario. The Middle East and North Africa area is an exception to this rule."
      ],
      "metadata": {
        "id": "C_j1G7yiqdRP"
      }
    },
    {
      "cell_type": "markdown",
      "source": [
        "##### 3. Will the gained insights help creating a positive business impact? \n",
        "Are there any insights that lead to negative growth? Justify with specific reason."
      ],
      "metadata": {
        "id": "448CDAPjqfQr"
      }
    },
    {
      "cell_type": "markdown",
      "source": [
        "Figure highlights the fact that almost every area has experienced a rise and fall. Therefore, despite the fact that terrorism has been prevalent throughout history, no area has shown a consistent history of participation with terrorism."
      ],
      "metadata": {
        "id": "3cspy4FjqxJW"
      }
    },
    {
      "cell_type": "markdown",
      "source": [
        "#### Chart - 2"
      ],
      "metadata": {
        "id": "KSlN3yHqYklG"
      }
    },
    {
      "cell_type": "code",
      "source": [
        "# Chart - 2 Number Of Terrorist Activities Each Year\n",
        "\n",
        "plt.subplots(figsize=(13,6))\n",
        "sns.countplot(x='Year',data=rename_data)\n",
        "plt.xticks(rotation=90)\n",
        "plt.title('Number Of Terrorist Activities Each Year')\n",
        "plt.show()"
      ],
      "metadata": {
        "id": "R4YgtaqtYklH"
      },
      "execution_count": null,
      "outputs": []
    },
    {
      "cell_type": "markdown",
      "source": [
        "##### 1. Why did you pick the specific chart?"
      ],
      "metadata": {
        "id": "t6dVpIINYklI"
      }
    },
    {
      "cell_type": "markdown",
      "source": [
        "Here i use countplot to gain insight into the evolution of terrorism and the place at which it affects the world each year by compiling a list of all terrorist attacks over time."
      ],
      "metadata": {
        "id": "5aaW0BYyYklI"
      }
    },
    {
      "cell_type": "markdown",
      "source": [
        "##### 2. What is/are the insight(s) found from the chart?"
      ],
      "metadata": {
        "id": "ijmpgYnKYklI"
      }
    },
    {
      "cell_type": "markdown",
      "source": [
        "Figure depicts statistics for the total number of attacks that occurred each year from 1970 to 2017. \n",
        "\n",
        "The 1970s saw a relatively low amount of terrorist attacks. Then, after a moderate rise in the 1980s and early 1990s and a significant decline in the following decade, terrorism began to rise again in the early 2000s and peaked like never before in history."
      ],
      "metadata": {
        "id": "PSx9atu2YklI"
      }
    },
    {
      "cell_type": "markdown",
      "source": [
        "##### 3. Will the gained insights help creating a positive business impact? \n",
        "Are there any insights that lead to negative growth? Justify with specific reason."
      ],
      "metadata": {
        "id": "-JiQyfWJYklI"
      }
    },
    {
      "cell_type": "markdown",
      "source": [
        "The rise in attacks over the past few years has contributed to a more hostile atmosphere and raised tension worldwide. This finding can aid in the investigation of elements that negatively influenced the sudden increase in assault frequency."
      ],
      "metadata": {
        "id": "BcBbebzrYklV"
      }
    },
    {
      "cell_type": "markdown",
      "source": [
        "#### Chart - 3"
      ],
      "metadata": {
        "id": "EM7whBJCYoAo"
      }
    },
    {
      "cell_type": "code",
      "source": [
        "# Chart - 3 Number of Terrorist Activities in Each Region\n",
        "\n",
        "region_attacks = rename_data.Region.value_counts().to_frame().reset_index()\n",
        "region_attacks.columns = ['Region', 'Total Attacks']\n",
        "plt.subplots(figsize=(15,5))\n",
        "sns.barplot(x=region_attacks.Region, y=region_attacks['Total Attacks'])\n",
        "plt.xticks(rotation=90)\n",
        "plt.title('Number of Terrorist Activities in Each Region')\n",
        "plt.show()"
      ],
      "metadata": {
        "id": "t6GMdE67YoAp"
      },
      "execution_count": null,
      "outputs": []
    },
    {
      "cell_type": "markdown",
      "source": [
        "##### 1. Why did you pick the specific chart?"
      ],
      "metadata": {
        "id": "fge-S5ZAYoAp"
      }
    },
    {
      "cell_type": "markdown",
      "source": [
        "I use barplot because i have large data set and not able to count one by one for all region name. With help of this plot it counts all names from data set and disply it. It easy way to represent numerical datas."
      ],
      "metadata": {
        "id": "5dBItgRVYoAp"
      }
    },
    {
      "cell_type": "markdown",
      "source": [
        "##### 2. What is/are the insight(s) found from the chart?"
      ],
      "metadata": {
        "id": "85gYPyotYoAp"
      }
    },
    {
      "cell_type": "markdown",
      "source": [
        "As shown in Figure, nations have been divided into twelve areas based on their geographic locations in order to assess the prevalence of terrorism in each of them.\n",
        "\n",
        "The greatest number of assaults occur in the Middle East and North Africa, followed by South Asia and South America. The spread of terrorism in this country is not uniform across all areas."
      ],
      "metadata": {
        "id": "4jstXR6OYoAp"
      }
    },
    {
      "cell_type": "markdown",
      "source": [
        "##### 3. Will the gained insights help creating a positive business impact? \n",
        "Are there any insights that lead to negative growth? Justify with specific reason."
      ],
      "metadata": {
        "id": "RoGjAbkUYoAp"
      }
    },
    {
      "cell_type": "markdown",
      "source": [
        "Different levels of focus are needed for each area depending on the quantity of attacks.\n",
        "\n",
        "Top terror affected countries need to implement solid step to tackle the terror attackes such as Middle East & north africa, south asia, south america, sub saharan africa, southeast asia, and western europe."
      ],
      "metadata": {
        "id": "zfJ8IqMcYoAp"
      }
    },
    {
      "cell_type": "markdown",
      "source": [
        "#### Chart - 4"
      ],
      "metadata": {
        "id": "4Of9eVA-YrdM"
      }
    },
    {
      "cell_type": "code",
      "source": [
        "# Chart - 4 Preferable Attacking Methods by Terrorist\n",
        "\n",
        "plt.subplots(figsize=(13,6))\n",
        "sns.countplot(y='Attack_Type',data=rename_data)\n",
        "plt.title('Preferable Attacking Methods by Terrorist')\n",
        "plt.show()"
      ],
      "metadata": {
        "id": "irlUoxc8YrdO"
      },
      "execution_count": null,
      "outputs": []
    },
    {
      "cell_type": "markdown",
      "source": [
        "##### 1. Why did you pick the specific chart?"
      ],
      "metadata": {
        "id": "iky9q4vBYrdO"
      }
    },
    {
      "cell_type": "markdown",
      "source": [
        "Here, i use countplot because it clearly indicates attack type category and total number of counts for perticular attack."
      ],
      "metadata": {
        "id": "aJRCwT6DYrdO"
      }
    },
    {
      "cell_type": "markdown",
      "source": [
        "##### 2. What is/are the insight(s) found from the chart?"
      ],
      "metadata": {
        "id": "F6T5p64dYrdO"
      }
    },
    {
      "cell_type": "markdown",
      "source": [
        "Attackers have employed a variety of tools and tactics. The specified attack class has 8 categorical numbers. They are barrier incidents, defenceless assaults, infrastructure attacks, kidnappings, hijackings, bombings and explosions, armed assaults, and assassinations. These characteristics can clarify which types of attacks are deployed most frequently.\n",
        "\n",
        "Figures show the attacker's possible objective or area of concentration. For instance, unarmed assault assaults typically target a single target or a small collection of targets.  A ransom is typically demanded as compensation for a hijacking.\n",
        "\n",
        "The most frequent type of attack is an explosion, which is followed by armed attacks, murders, hostage situations, and so forth. Here, the overall number of deaths caused by explosive weapons is nearly twice as high as the death toll from the next-most incident, an armed assault."
      ],
      "metadata": {
        "id": "Xx8WAJvtYrdO"
      }
    },
    {
      "cell_type": "markdown",
      "source": [
        "##### 3. Will the gained insights help creating a positive business impact? \n",
        "Are there any insights that lead to negative growth? Justify with specific reason."
      ],
      "metadata": {
        "id": "y-Ehk30pYrdP"
      }
    },
    {
      "cell_type": "markdown",
      "source": [
        "This finding suggests that the majority of assaults targeted citizens in an effort to terrorise a large number of targets."
      ],
      "metadata": {
        "id": "jLNxxz7MYrdP"
      }
    },
    {
      "cell_type": "markdown",
      "source": [
        "#### Chart - 5"
      ],
      "metadata": {
        "id": "bamQiAODYuh1"
      }
    },
    {
      "cell_type": "code",
      "source": [
        "# Chart - 5 Top Affected Countries\n",
        "\n",
        "plt.subplots(figsize=(13,45))\n",
        "sns.countplot(y='country_txt',data=Data)\n",
        "plt.title('Top Affected Countries')\n",
        "plt.ylabel('Country Name')\n",
        "plt.show()"
      ],
      "metadata": {
        "id": "TIJwrbroYuh3"
      },
      "execution_count": null,
      "outputs": []
    },
    {
      "cell_type": "markdown",
      "source": [
        "##### 1. Why did you pick the specific chart?"
      ],
      "metadata": {
        "id": "QHF8YVU7Yuh3"
      }
    },
    {
      "cell_type": "markdown",
      "source": [
        "Here, i use countplot because it clearly indicates all countries and total number of counts for perticular countries."
      ],
      "metadata": {
        "id": "dcxuIMRPYuh3"
      }
    },
    {
      "cell_type": "markdown",
      "source": [
        "##### 2. What is/are the insight(s) found from the chart?"
      ],
      "metadata": {
        "id": "GwzvFGzlYuh3"
      }
    },
    {
      "cell_type": "markdown",
      "source": [
        "Based on the overall number of attacks, the figure reveals that some of the most impacted nations are Iraq, Pakistan, Afghanistan, and India."
      ],
      "metadata": {
        "id": "uyqkiB8YYuh3"
      }
    },
    {
      "cell_type": "markdown",
      "source": [
        "##### 3. Will the gained insights help creating a positive business impact? \n",
        "Are there any insights that lead to negative growth? Justify with specific reason."
      ],
      "metadata": {
        "id": "qYpmQ266Yuh3"
      }
    },
    {
      "cell_type": "markdown",
      "source": [
        "Given dataset explain how some countries are prone to\n",
        "violent actions and difference in an ideology which can lead to extreme terrorism."
      ],
      "metadata": {
        "id": "_WtzZ_hCYuh4"
      }
    },
    {
      "cell_type": "markdown",
      "source": [
        "#### Chart - 6"
      ],
      "metadata": {
        "id": "OH-pJp9IphqM"
      }
    },
    {
      "cell_type": "code",
      "source": [
        "# Chart - 6 Total Number Of Terrorist Activities in each country\n",
        "\n",
        "# Replace zero values in month with Unknown\n",
        "\n",
        "rename_data[\"Month\"].replace(to_replace=[0],value=[\"Unknown\"],inplace=True)\n",
        "\n",
        "# Number Of Terrorist Activities in each country\n",
        "\n",
        "plt.subplots(figsize=(20,5))\n",
        "sns.countplot(x='Region', data=rename_data, edgecolor=sns.color_palette('dark',16),hue ='Month')\n",
        "plt.xticks(rotation=30)\n",
        "plt.title('Number Of Terrorist Activities in each country')\n",
        "plt.show()"
      ],
      "metadata": {
        "id": "kuRf4wtuphqN"
      },
      "execution_count": null,
      "outputs": []
    },
    {
      "cell_type": "markdown",
      "source": [
        "##### 1. Why did you pick the specific chart?"
      ],
      "metadata": {
        "id": "bbFf2-_FphqN"
      }
    },
    {
      "cell_type": "markdown",
      "source": [
        "I use countplot used to understand month wise dataset of terrorist attacks in all regions."
      ],
      "metadata": {
        "id": "loh7H2nzphqN"
      }
    },
    {
      "cell_type": "markdown",
      "source": [
        "##### 2. What is/are the insight(s) found from the chart?"
      ],
      "metadata": {
        "id": "_ouA3fa0phqN"
      }
    },
    {
      "cell_type": "markdown",
      "source": [
        "Graph clearly shows that the middle east and north african countries are most affected by terror activities and it is in peak during june & july month.\n",
        "\n",
        "While other countries also follows similar trend, attack peak at middle of the year and decline during last month."
      ],
      "metadata": {
        "id": "VECbqPI7phqN"
      }
    },
    {
      "cell_type": "markdown",
      "source": [
        "##### 3. Will the gained insights help creating a positive business impact? \n",
        "Are there any insights that lead to negative growth? Justify with specific reason."
      ],
      "metadata": {
        "id": "Seke61FWphqN"
      }
    },
    {
      "cell_type": "markdown",
      "source": [
        "Based on analysis, we found that all region need to focus on middle of the year to tackle the terror activities."
      ],
      "metadata": {
        "id": "DW4_bGpfphqN"
      }
    },
    {
      "cell_type": "markdown",
      "source": [
        "#### Chart - 7"
      ],
      "metadata": {
        "id": "PIIx-8_IphqN"
      }
    },
    {
      "cell_type": "code",
      "source": [
        "# Chart - 7 Preferable Location For Attack\n",
        "\n",
        "plt.subplots(figsize=(13,6))\n",
        "sns.countplot(y='Target_Type',data=rename_data)\n",
        "plt.title('Preferable Location For Attack')\n",
        "plt.show()"
      ],
      "metadata": {
        "id": "lqAIGUfyphqO"
      },
      "execution_count": null,
      "outputs": []
    },
    {
      "cell_type": "markdown",
      "source": [
        "##### 1. Why did you pick the specific chart?"
      ],
      "metadata": {
        "id": "t27r6nlMphqO"
      }
    },
    {
      "cell_type": "markdown",
      "source": [
        "Graph clearly shows relation between terror group and total number of attacks."
      ],
      "metadata": {
        "id": "iv6ro40sphqO"
      }
    },
    {
      "cell_type": "markdown",
      "source": [
        "##### 2. What is/are the insight(s) found from the chart?"
      ],
      "metadata": {
        "id": "r2jJGEOYphqO"
      }
    },
    {
      "cell_type": "markdown",
      "source": [
        "Targeting their victims is how the perpetrator always attempts to make a statement. Understanding the sort of target will help you comprehend their goal and probably their motivations. An philosophy that seeks to alter the status quo or enforce its own is what fuels terrorism. Analyzing the characteristics that are most frequently attacked will reveal the attacker's goals and the nature of terrorism in general.\n",
        "\n",
        "There are over a hundred different target types. These target categories are grouped into 22 categorises. Figure demonstrates that the most frequent targets are people, the military, the government, and the cops. This graph illustrates how terrorist organisations or people despise national or state power."
      ],
      "metadata": {
        "id": "Po6ZPi4hphqO"
      }
    },
    {
      "cell_type": "markdown",
      "source": [
        "##### 3. Will the gained insights help creating a positive business impact? \n",
        "Are there any insights that lead to negative growth? Justify with specific reason."
      ],
      "metadata": {
        "id": "b0JNsNcRphqO"
      }
    },
    {
      "cell_type": "markdown",
      "source": [
        "Their primary goal is to either influence political change or impose their beliefs on government officials by retaliating against them."
      ],
      "metadata": {
        "id": "xvSq8iUTphqO"
      }
    },
    {
      "cell_type": "markdown",
      "source": [
        "#### Chart - 8"
      ],
      "metadata": {
        "id": "BZR9WyysphqO"
      }
    },
    {
      "cell_type": "code",
      "source": [
        "# Count of Kidnapping values form data set\n",
        "\n",
        "Kidnapped_value = (rename_data['Kidnapped']) .value_counts()\n",
        "print(Kidnapped_value)"
      ],
      "metadata": {
        "id": "6F-Z1n_eBOLl"
      },
      "execution_count": null,
      "outputs": []
    },
    {
      "cell_type": "code",
      "source": [
        "# Chart - 8 Terrorist preferance Kidnapping or Not\n",
        "\n",
        "plt.subplots(figsize=(13,6))\n",
        "sns.countplot(y='Kidnapped',data=rename_data)\n",
        "plt.title('Terrorist preferance for Kidnapping')\n",
        "plt.show()\n"
      ],
      "metadata": {
        "id": "TdPTWpAVphqO"
      },
      "execution_count": null,
      "outputs": []
    },
    {
      "cell_type": "markdown",
      "source": [
        "##### 1. Why did you pick the specific chart?"
      ],
      "metadata": {
        "id": "jj7wYXLtphqO"
      }
    },
    {
      "cell_type": "markdown",
      "source": [
        "Here, i need to know terrorists prefer kidnapping or not. So, i choose this graph formate."
      ],
      "metadata": {
        "id": "Ob8u6rCTphqO"
      }
    },
    {
      "cell_type": "markdown",
      "source": [
        "##### 2. What is/are the insight(s) found from the chart?"
      ],
      "metadata": {
        "id": "eZrbJ2SmphqO"
      }
    },
    {
      "cell_type": "markdown",
      "source": [
        "An act whose main goal is to seize control of hostages with the intention of accomplishing a political goal by interfering with regular operations.\n",
        "\n",
        "Based on observation, i found that the terrorists are not much prefere kidnapping. In some case it prefere kidnapping, but it is small proportion to not prefere."
      ],
      "metadata": {
        "id": "mZtgC_hjphqO"
      }
    },
    {
      "cell_type": "markdown",
      "source": [
        "##### 3. Will the gained insights help creating a positive business impact? \n",
        "Are there any insights that lead to negative growth? Justify with specific reason."
      ],
      "metadata": {
        "id": "rFu4xreNphqO"
      }
    },
    {
      "cell_type": "markdown",
      "source": [
        "This insight will be helpfull to know mindset of terrorist and their behavior to\n",
        "accomplishing a political goal through concessions or by interfering with regular operations.\n",
        "\n",
        "\n",
        "1.   **Insights that lead to negative growth**\n",
        "\n",
        "As per the above data insights, it appears that the number of hostages is still not particularly high, but it still suggests that anti-terrorism agencies need to better their leads and operations to neutralize hostage-taking/kidnapping acts in order to prevent upsetting regular operations and life losses."
      ],
      "metadata": {
        "id": "ey_0qi68phqO"
      }
    },
    {
      "cell_type": "markdown",
      "source": [
        "#### Chart - 9"
      ],
      "metadata": {
        "id": "YJ55k-q6phqO"
      }
    },
    {
      "cell_type": "code",
      "source": [
        "# Chart - 9 Preferable Weapon Type\n",
        "\n",
        "plt.subplots(figsize=(13,6))\n",
        "sns.countplot(y='Weapon_Type',data=rename_data)\n",
        "plt.title('Preferable Weapon Type')\n",
        "plt.show()"
      ],
      "metadata": {
        "id": "B2aS4O1ophqO"
      },
      "execution_count": null,
      "outputs": []
    },
    {
      "cell_type": "markdown",
      "source": [
        "##### 1. Why did you pick the specific chart?"
      ],
      "metadata": {
        "id": "gCFgpxoyphqP"
      }
    },
    {
      "cell_type": "markdown",
      "source": [
        "Easily present total count data with respect to its source."
      ],
      "metadata": {
        "id": "TVxDimi2phqP"
      }
    },
    {
      "cell_type": "markdown",
      "source": [
        "##### 2. What is/are the insight(s) found from the chart?"
      ],
      "metadata": {
        "id": "OVtJsKN_phqQ"
      }
    },
    {
      "cell_type": "markdown",
      "source": [
        "Attackers have utilised a range of tools and techniques. For the specified attack style, there are 12 categorical numbers of weapon type that terrorist used for attacke. They are explosives, incendairy, firearms, chemical, melee, sabotage equipments, vehicle, fake wapones, radiological, biological and other weapone type also. These characteristics can clarify which forms of weapove type are most frequently employed.\n",
        "\n",
        "The most frequent are explosions, followed by firearms, incendairy and so forth. Here, the overall number of deaths caused by explosive weapons is nearly twice as high as the death toll from the next-most weapone type."
      ],
      "metadata": {
        "id": "ngGi97qjphqQ"
      }
    },
    {
      "cell_type": "markdown",
      "source": [
        "##### 3. Will the gained insights help creating a positive business impact? \n",
        "Are there any insights that lead to negative growth? Justify with specific reason."
      ],
      "metadata": {
        "id": "lssrdh5qphqQ"
      }
    },
    {
      "cell_type": "markdown",
      "source": [
        "This finding suggests that the majority of assaults targeted citizens in an effort to terrorise a large number of targets."
      ],
      "metadata": {
        "id": "tBpY5ekJphqQ"
      }
    },
    {
      "cell_type": "markdown",
      "source": [
        "#### Chart - 10"
      ],
      "metadata": {
        "id": "U2RJ9gkRphqQ"
      }
    },
    {
      "cell_type": "code",
      "source": [
        "# Chart - 10 Number of People Killed by Active Terrorist Groups\n",
        "\n",
        "# Terrorist group names and killed each year\n",
        "\n",
        "group_killed= rename_data[['Group_Name','Killed']].groupby(['Group_Name']).sum().sort_values('Killed', ascending=False).head(20)\n",
        "group_killed\n",
        "\n",
        "# People Killed by each group in terrorist activity\n",
        "\n",
        "group_killed.plot(kind = \"bar\",figsize = (12,6))\n",
        "plt.title('Number of People Killed by Active Terrorist Groups')\n",
        "plt.xlabel('Active Terrorist Groups')\n",
        "plt.ylabel('Number of people killed')\n",
        "plt.xticks(rotation= 90)\n",
        "plt.show()"
      ],
      "metadata": {
        "id": "GM7a4YP4phqQ"
      },
      "execution_count": null,
      "outputs": []
    },
    {
      "cell_type": "markdown",
      "source": [
        "##### 1. Why did you pick the specific chart?"
      ],
      "metadata": {
        "id": "1M8mcRywphqQ"
      }
    },
    {
      "cell_type": "markdown",
      "source": [
        "Graph clearly shows various terror groups and its total number of attackes, that's the reasion i choose this graph."
      ],
      "metadata": {
        "id": "8agQvks0phqQ"
      }
    },
    {
      "cell_type": "markdown",
      "source": [
        "##### 2. What is/are the insight(s) found from the chart?"
      ],
      "metadata": {
        "id": "tgIPom80phqQ"
      }
    },
    {
      "cell_type": "markdown",
      "source": [
        "Some of the most infamous terrorist organisations and the years they were active are shown in Figure. Organisations like the Shining Path and the Farabundo Marti National Liberation Front were very busy, but after that, there was no sign of them in the years that followed. \n",
        "\n",
        "The main causes of the recent increase in assaults, particularly in the Middle East and North Africa, are the Unkown group, Taliban and ISIL. There are more active terrorist organisations disseminating fear and bloodshed today than ever before. Almost all groups experience numerous peaks and valleys over the course of their life."
      ],
      "metadata": {
        "id": "Qp13pnNzphqQ"
      }
    },
    {
      "cell_type": "markdown",
      "source": [
        "##### 3. Will the gained insights help creating a positive business impact? \n",
        "Are there any insights that lead to negative growth? Justify with specific reason."
      ],
      "metadata": {
        "id": "JMzcOPDDphqR"
      }
    },
    {
      "cell_type": "markdown",
      "source": [
        "However, new organisations emerge with various motivations and work to disseminate their ideologies. As a result, it is necessary to use various tactics when dealing with various populations. Different factions cannot be served by the same tactics that have been employed in the past."
      ],
      "metadata": {
        "id": "R4Ka1PC2phqR"
      }
    },
    {
      "cell_type": "markdown",
      "source": [
        "#### Chart - 11"
      ],
      "metadata": {
        "id": "x-EpHcCOp1ci"
      }
    },
    {
      "cell_type": "code",
      "source": [
        "# Chart - 11 Attacks to Kill Comparison\n",
        "\n",
        "coun_terror = rename_data['Country'].value_counts()[:15].to_frame()\n",
        "coun_kill = rename_data.groupby('Country')['Killed'].sum()\n",
        "coun_terror.merge(coun_kill, left_index = True, right_index = True, how ='left'). plot.bar(width=0.9)\n",
        "fig = plt.gcf()\n",
        "fig.set_size_inches(15,5)\n",
        "plt.title('Attacks to Kill Comparison')\n",
        "plt.show()"
      ],
      "metadata": {
        "id": "mAQTIvtqp1cj"
      },
      "execution_count": null,
      "outputs": []
    },
    {
      "cell_type": "markdown",
      "source": [
        "##### 1. Why did you pick the specific chart?"
      ],
      "metadata": {
        "id": "X_VqEhTip1ck"
      }
    },
    {
      "cell_type": "markdown",
      "source": [
        "Graph indiacates ratio between attacks and kill in perticular country and it easily understandable with help of this graph."
      ],
      "metadata": {
        "id": "-vsMzt_np1ck"
      }
    },
    {
      "cell_type": "markdown",
      "source": [
        "##### 2. What is/are the insight(s) found from the chart?"
      ],
      "metadata": {
        "id": "8zGJKyg5p1ck"
      }
    },
    {
      "cell_type": "markdown",
      "source": [
        "The kills to attack ratio for the worst-affected nations can be examined in Figure. That percentage is extremely high for Iraq. Over 3 kills per strike on average. Philippines, Peru, and the United Kingdom are three nations that have experienced roughly the same number of assaults but have experienced a distinct number of fatalities.\n",
        "\n"
      ],
      "metadata": {
        "id": "ZYdMsrqVp1ck"
      }
    },
    {
      "cell_type": "markdown",
      "source": [
        "##### 3. Will the gained insights help creating a positive business impact? \n",
        "Are there any insights that lead to negative growth? Justify with specific reason."
      ],
      "metadata": {
        "id": "PVzmfK_Ep1ck"
      }
    },
    {
      "cell_type": "markdown",
      "source": [
        "As a consequence of this association, different counterterrorism tactics in various nations may produce a different number of fatalities for a given number of attacks. When developing new counterterrorism strategies, this international contrast can be taken into account."
      ],
      "metadata": {
        "id": "druuKYZpp1ck"
      }
    },
    {
      "cell_type": "markdown",
      "source": [
        "#### Chart - 12"
      ],
      "metadata": {
        "id": "n3dbpmDWp1ck"
      }
    },
    {
      "cell_type": "code",
      "source": [
        "# Chart - 12 Top 10 terrorist attackes affected cities\n",
        "\n",
        "Cities = rename_data['City'].value_counts()[1:11]\n",
        "\n",
        "Cities.plot(kind = \"bar\",figsize = (17,5))\n",
        "plt.title(\"Top 10 terrorist attackes affected cities\",fontsize = 13)\n",
        "plt.xlabel(\"Cities\",fontsize=13)\n",
        "plt.xticks(fontsize = 12)\n",
        "plt.ylabel(\"Number of Attacks\",fontsize = 13)\n",
        "plt.show()"
      ],
      "metadata": {
        "id": "bwevp1tKp1ck"
      },
      "execution_count": null,
      "outputs": []
    },
    {
      "cell_type": "markdown",
      "source": [
        "##### 1. Why did you pick the specific chart?"
      ],
      "metadata": {
        "id": "ylSl6qgtp1ck"
      }
    },
    {
      "cell_type": "markdown",
      "source": [
        "Bar chart easily represent cummulative number of counts with reference to its own source name (City)."
      ],
      "metadata": {
        "id": "m2xqNkiQp1ck"
      }
    },
    {
      "cell_type": "markdown",
      "source": [
        "##### 2. What is/are the insight(s) found from the chart?"
      ],
      "metadata": {
        "id": "ZWILFDl5p1ck"
      }
    },
    {
      "cell_type": "markdown",
      "source": [
        "Here, i try to present top ten affected countries by the terrorists. In which baghdad, karachi, and lima are on top three affexted countries."
      ],
      "metadata": {
        "id": "x-lUsV2mp1ck"
      }
    },
    {
      "cell_type": "markdown",
      "source": [
        "##### 3. Will the gained insights help creating a positive business impact? \n",
        "Are there any insights that lead to negative growth? Justify with specific reason."
      ],
      "metadata": {
        "id": "M7G43BXep1ck"
      }
    },
    {
      "cell_type": "markdown",
      "source": [
        "Baghdad shows approximate 2.5 time more terror attacks compare to other contries and it indicates it weakness to tackle the terrorist attackes."
      ],
      "metadata": {
        "id": "5wwDJXsLp1cl"
      }
    },
    {
      "cell_type": "markdown",
      "source": [
        "#### Chart - 13"
      ],
      "metadata": {
        "id": "Ag9LCva-p1cl"
      }
    },
    {
      "cell_type": "code",
      "source": [
        "# Chart - 13 Killed in each City\n",
        "\n",
        "kill = rename_data[[\"City\",\"Killed\"]].groupby(\"City\").sum().sort_values(by=\"Killed\",ascending=False).drop(\"Unknown\")\n",
        "\n",
        "# Total Kill city wise\n",
        "\n",
        "fig = plt.figure()\n",
        "ax0=fig.add_subplot(1,2,1)\n",
        "kill[:10].plot(kind=\"bar\",color=\"cornflowerblue\",figsize=(30,5),ax=ax0)\n",
        "ax0.set_title(\"People Killed in each City\")\n",
        "ax0.set_xlabel(\"Cities\")\n",
        "ax0.set_ylabel(\"Number of People Killed\")"
      ],
      "metadata": {
        "id": "EUfxeq9-p1cl"
      },
      "execution_count": null,
      "outputs": []
    },
    {
      "cell_type": "markdown",
      "source": [
        "##### 1. Why did you pick the specific chart?"
      ],
      "metadata": {
        "id": "E6MkPsBcp1cl"
      }
    },
    {
      "cell_type": "markdown",
      "source": [
        "I use barplot because i have large data set and not able to count one by one for all city name. With help of this plot it counts all names from data set and disply it. It easy way to represent numerical datas."
      ],
      "metadata": {
        "id": "V22bRsFWp1cl"
      }
    },
    {
      "cell_type": "markdown",
      "source": [
        "##### 2. What is/are the insight(s) found from the chart?"
      ],
      "metadata": {
        "id": "2cELzS2fp1cl"
      }
    },
    {
      "cell_type": "markdown",
      "source": [
        "As per previous chart baghdad is a top affetced country by terrorist and it has also in top in total number of people kill followed by mosul, mogadishu, karachi, new york city, etc.\n",
        "\n",
        "The insight we have drone form here is that these above 10 cities having higest killing by terrorist which indicates these cities require more proctection and security to halt the terrorist activty and require more resources and stratergies to build a secure ecosystem to protect day to day stack holders oprations make them safe for living population."
      ],
      "metadata": {
        "id": "ozQPc2_Ip1cl"
      }
    },
    {
      "cell_type": "markdown",
      "source": [
        "##### 3. Will the gained insights help creating a positive business impact? \n",
        "Are there any insights that lead to negative growth? Justify with specific reason."
      ],
      "metadata": {
        "id": "3MPXvC8up1cl"
      }
    },
    {
      "cell_type": "markdown",
      "source": [
        "Gained insights from the above chart is to build a strong network of security and creating a awareness among peoples against the terrorism. It insights us toward the finding points why the terrosit attackes and killing are highy in number in these cities is it because of wrong polices of government or because of unemployment or lack of education.\n",
        "\n",
        "this insight will help to find the arears which will help to build and frame policies accordinly by the authorties/government"
      ],
      "metadata": {
        "id": "GL8l1tdLp1cl"
      }
    },
    {
      "cell_type": "markdown",
      "source": [
        "#### Chart - 14 - Correlation Heatmap"
      ],
      "metadata": {
        "id": "NC_X3p0fY2L0"
      }
    },
    {
      "cell_type": "code",
      "source": [
        "# Correlation Heatmap visualization code\n",
        "\n",
        "rename = Data[['iyear','imonth','iday','nkill','attacktype1','targtype1','weaptype1','success','alternative','individual','natlty1','nkillus','nkillter']]\n",
        "\n",
        "corr_matrix = rename.corr()\n",
        "plt.figure(figsize=[15,6])\n",
        "sns.heatmap(corr_matrix, annot=True)\n",
        "plt.show()"
      ],
      "metadata": {
        "id": "zdksj6i1NP8G"
      },
      "execution_count": null,
      "outputs": []
    },
    {
      "cell_type": "markdown",
      "source": [
        "##### 1. Why did you pick the specific chart?"
      ],
      "metadata": {
        "id": "UV0SzAkaZNRQ"
      }
    },
    {
      "cell_type": "markdown",
      "source": [
        "This type of graph gives correlation between two or more number of variables."
      ],
      "metadata": {
        "id": "DVPuT8LYZNRQ"
      }
    },
    {
      "cell_type": "markdown",
      "source": [
        "##### 2. What is/are the insight(s) found from the chart?"
      ],
      "metadata": {
        "id": "YPEH6qLeZNRQ"
      }
    },
    {
      "cell_type": "markdown",
      "source": [
        "One important trend about the character of terrorism can be found by looking for dependencies between the different factors in the dataset. We have chosen the 13 most important factors out of a total of 120 for this chart. The day, year, nation, kill, assault success rate, attack style, target type, amount of kills, etc. are a few of these parameters.\n",
        "\n",
        "This finding demonstrates that most assaults are carried out by nationals of the target nation. Given that the proportion of foreign terrorism is considerably lower than that of domestic terrorism, this relationship offers an intriguing window into how to view the phenomenon. As the attack type is determined by the weaponry used in that event, the weapon used in the attack and attack have a close relationship as well.\n",
        "\n",
        "A darker shade on the block denotes a negative relationship between the criteria of year and achievement. As a result, any attack's likelihood of success has decreased over time. This is a notable finding that counterterrorism forces can now more effectively limit the likelihood that an assault will succeed than they could previously."
      ],
      "metadata": {
        "id": "bfSqtnDqZNRR"
      }
    },
    {
      "cell_type": "markdown",
      "source": [
        "#### Chart - 15 - Pair Plot "
      ],
      "metadata": {
        "id": "q29F0dvdveiT"
      }
    },
    {
      "cell_type": "code",
      "source": [
        "# Pair Plot visualization code\n",
        "\n",
        "data = Data[['region','attacktype1','targtype1','alternative']][0:101]\n",
        "\n",
        "sns.pairplot(data, hue=\"region\", diag_kind=\"hist\", kind=\"hist\", height = 2)"
      ],
      "metadata": {
        "id": "o58-TEIhveiU"
      },
      "execution_count": null,
      "outputs": []
    },
    {
      "cell_type": "markdown",
      "source": [
        "##### 1. Why did you pick the specific chart?"
      ],
      "metadata": {
        "id": "EXh0U9oCveiU"
      }
    },
    {
      "cell_type": "markdown",
      "source": [
        "It help make a relationships between variables in a dataset, making them a popular choice for data analysis.\n",
        "\n",
        "This plots allow us to simultaneously visualize the relationships between multiple variables in a dataset, making it easier to identify patterns and correlations between them."
      ],
      "metadata": {
        "id": "eMmPjTByveiU"
      }
    },
    {
      "cell_type": "markdown",
      "source": [
        "##### 2. What is/are the insight(s) found from the chart?"
      ],
      "metadata": {
        "id": "22aHeOlLveiV"
      }
    },
    {
      "cell_type": "markdown",
      "source": [
        "Pair plot shows the positive correlation in all selected variables. Other crime type are mostly use bombing/ explosion to affect the business category as per result."
      ],
      "metadata": {
        "id": "uPQ8RGwHveiV"
      }
    },
    {
      "cell_type": "markdown",
      "source": [
        "## **5. Solution to Business Objective**"
      ],
      "metadata": {
        "id": "JcMwzZxoAimU"
      }
    },
    {
      "cell_type": "markdown",
      "source": [
        "#### What do you suggest the client to achieve Business Objective ? \n",
        "This study can be used to comprehend terrorism and its character by academic scholars, international groups holding global events, foreign investors, security-related policy makers, and curious civilians.\n",
        "\n",
        "Following is a list of directions which can enhance the quality and quantity of this current project work,\n",
        "\n",
        "1. Improve dataset quality\n",
        "2. Prediction\n",
        "3. Enhance work for accurate data collection\n",
        "4. Connections with other datasets"
      ],
      "metadata": {
        "id": "8G2x9gOozGDZ"
      }
    },
    {
      "cell_type": "markdown",
      "source": [
        "# **Conclusion**"
      ],
      "metadata": {
        "id": "gCX9965dhzqZ"
      }
    },
    {
      "cell_type": "markdown",
      "source": [
        "\n",
        "The objective of this initiative was to create an instrument that aids users in comprehending and interpreting the essence of terrorism. Users can sense the START dataset through graphic patterns. \n",
        "\n",
        "An dynamic tool to examine this dataset is provided by a visualisation that can be used to determine the total number of assaults, total death tallies, and position based on the chosen area and year.\n",
        "\n",
        "Through the use of visual analysis and the accompanying description, users can comprehend various patterns, trends, and correlations in terrorism. \n",
        "\n",
        "Users can use this tool's START dataset and other terrorism-related sites to conduct extra study."
      ],
      "metadata": {
        "id": "Fjb1IsQkh3yE"
      }
    },
    {
      "cell_type": "markdown",
      "source": [
        "### ***Hurrah! You have successfully completed your EDA Capstone Project !!!***"
      ],
      "metadata": {
        "id": "gIfDvo9L0UH2"
      }
    }
  ]
}